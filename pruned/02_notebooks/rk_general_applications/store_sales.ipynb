{
 "cells": [
  {
   "cell_type": "code",
   "execution_count": 1,
   "id": "492a203f",
   "metadata": {
    "ExecuteTime": {
     "end_time": "2021-12-11T17:56:13.956148Z",
     "start_time": "2021-12-11T17:56:12.859103Z"
    }
   },
   "outputs": [
    {
     "name": "stdout",
     "output_type": "stream",
     "text": [
      "RK Toolkit 0.0.1b\n"
     ]
    }
   ],
   "source": [
    "from common import *\n",
    "from helpers import *\n",
    "import json\n",
    "import logging\n",
    "import os\n",
    "import itertools\n",
    "import numpy as np\n",
    "\n",
    "logger = logging.getLogger(__name__)\n",
    "logging.basicConfig(level=os.environ.get(\"LOGLEVEL\", \"WARNING\"))"
   ]
  },
  {
   "cell_type": "markdown",
   "id": "0133d948",
   "metadata": {},
   "source": [
    "### Preprocessing"
   ]
  },
  {
   "cell_type": "code",
   "execution_count": 2,
   "id": "a46714d0",
   "metadata": {
    "ExecuteTime": {
     "end_time": "2021-12-11T17:56:26.045808Z",
     "start_time": "2021-12-11T17:56:13.957884Z"
    }
   },
   "outputs": [
    {
     "data": {
      "text/html": [
       "<div>\n",
       "<style scoped>\n",
       "    .dataframe tbody tr th:only-of-type {\n",
       "        vertical-align: middle;\n",
       "    }\n",
       "\n",
       "    .dataframe tbody tr th {\n",
       "        vertical-align: top;\n",
       "    }\n",
       "\n",
       "    .dataframe thead th {\n",
       "        text-align: right;\n",
       "    }\n",
       "</style>\n",
       "<table border=\"1\" class=\"dataframe\">\n",
       "  <thead>\n",
       "    <tr style=\"text-align: right;\">\n",
       "      <th></th>\n",
       "      <th>order_id</th>\n",
       "      <th>total_sales</th>\n",
       "      <th>discount</th>\n",
       "      <th>total_quantity</th>\n",
       "      <th>total_profit</th>\n",
       "      <th>postal_code</th>\n",
       "      <th>cateogry_embedding</th>\n",
       "      <th>subcategory_embedding</th>\n",
       "      <th>returns</th>\n",
       "      <th>ship_mode_embedding</th>\n",
       "      <th>country</th>\n",
       "      <th>state</th>\n",
       "      <th>region</th>\n",
       "      <th>city</th>\n",
       "    </tr>\n",
       "  </thead>\n",
       "  <tbody>\n",
       "    <tr>\n",
       "      <th>0</th>\n",
       "      <td>CA-2014-100006</td>\n",
       "      <td>377.970</td>\n",
       "      <td>0.0</td>\n",
       "      <td>3</td>\n",
       "      <td>109.6113</td>\n",
       "      <td>10024</td>\n",
       "      <td>[0, 0, 1]</td>\n",
       "      <td>[0, 0, 0, 0, 0, 0, 0, 0, 0, 0, 0, 0, 0, 1, 0, ...</td>\n",
       "      <td>0</td>\n",
       "      <td>[0, 0, 0, 1]</td>\n",
       "      <td>United States</td>\n",
       "      <td>[0, 0, 0, 0, 0, 0, 0, 0, 0, 0, 0, 0, 0, 0, 0, ...</td>\n",
       "      <td>[0, 1, 0, 0]</td>\n",
       "      <td>New York City</td>\n",
       "    </tr>\n",
       "    <tr>\n",
       "      <th>1</th>\n",
       "      <td>CA-2014-100090</td>\n",
       "      <td>699.192</td>\n",
       "      <td>0.4</td>\n",
       "      <td>9</td>\n",
       "      <td>-19.0890</td>\n",
       "      <td>94122</td>\n",
       "      <td>[1, 1, 0]</td>\n",
       "      <td>[0, 0, 0, 1, 0, 0, 0, 0, 0, 0, 0, 0, 0, 0, 0, ...</td>\n",
       "      <td>0</td>\n",
       "      <td>[0, 0, 0, 2]</td>\n",
       "      <td>United States</td>\n",
       "      <td>[0, 0, 0, 1, 0, 0, 0, 0, 0, 0, 0, 0, 0, 0, 0, ...</td>\n",
       "      <td>[0, 0, 0, 1]</td>\n",
       "      <td>San Francisco</td>\n",
       "    </tr>\n",
       "    <tr>\n",
       "      <th>2</th>\n",
       "      <td>CA-2014-100293</td>\n",
       "      <td>91.056</td>\n",
       "      <td>0.2</td>\n",
       "      <td>6</td>\n",
       "      <td>31.8696</td>\n",
       "      <td>32216</td>\n",
       "      <td>[0, 1, 0]</td>\n",
       "      <td>[0, 0, 0, 0, 0, 0, 0, 0, 0, 0, 0, 0, 1, 0, 0, ...</td>\n",
       "      <td>0</td>\n",
       "      <td>[0, 0, 0, 1]</td>\n",
       "      <td>United States</td>\n",
       "      <td>[0, 0, 0, 0, 0, 0, 0, 0, 1, 0, 0, 0, 0, 0, 0, ...</td>\n",
       "      <td>[0, 0, 1, 0]</td>\n",
       "      <td>Jacksonville</td>\n",
       "    </tr>\n",
       "    <tr>\n",
       "      <th>3</th>\n",
       "      <td>CA-2014-100328</td>\n",
       "      <td>3.928</td>\n",
       "      <td>0.2</td>\n",
       "      <td>1</td>\n",
       "      <td>1.3257</td>\n",
       "      <td>10024</td>\n",
       "      <td>[0, 1, 0]</td>\n",
       "      <td>[0, 0, 0, 1, 0, 0, 0, 0, 0, 0, 0, 0, 0, 0, 0, ...</td>\n",
       "      <td>0</td>\n",
       "      <td>[0, 0, 0, 1]</td>\n",
       "      <td>United States</td>\n",
       "      <td>[0, 0, 0, 0, 0, 0, 0, 0, 0, 0, 0, 0, 0, 0, 0, ...</td>\n",
       "      <td>[0, 1, 0, 0]</td>\n",
       "      <td>New York City</td>\n",
       "    </tr>\n",
       "    <tr>\n",
       "      <th>4</th>\n",
       "      <td>CA-2014-100363</td>\n",
       "      <td>21.376</td>\n",
       "      <td>0.4</td>\n",
       "      <td>5</td>\n",
       "      <td>7.7192</td>\n",
       "      <td>85301</td>\n",
       "      <td>[0, 2, 0]</td>\n",
       "      <td>[0, 0, 0, 0, 0, 0, 0, 0, 1, 0, 0, 0, 1, 0, 0, ...</td>\n",
       "      <td>0</td>\n",
       "      <td>[0, 0, 0, 2]</td>\n",
       "      <td>United States</td>\n",
       "      <td>[0, 1, 0, 0, 0, 0, 0, 0, 0, 0, 0, 0, 0, 0, 0, ...</td>\n",
       "      <td>[0, 0, 0, 1]</td>\n",
       "      <td>Glendale</td>\n",
       "    </tr>\n",
       "    <tr>\n",
       "      <th>5</th>\n",
       "      <td>CA-2014-100391</td>\n",
       "      <td>14.620</td>\n",
       "      <td>0.0</td>\n",
       "      <td>2</td>\n",
       "      <td>6.7252</td>\n",
       "      <td>10035</td>\n",
       "      <td>[0, 1, 0]</td>\n",
       "      <td>[0, 0, 0, 0, 0, 0, 0, 0, 0, 0, 0, 0, 1, 0, 0, ...</td>\n",
       "      <td>0</td>\n",
       "      <td>[0, 0, 0, 1]</td>\n",
       "      <td>United States</td>\n",
       "      <td>[0, 0, 0, 0, 0, 0, 0, 0, 0, 0, 0, 0, 0, 0, 0, ...</td>\n",
       "      <td>[0, 1, 0, 0]</td>\n",
       "      <td>New York City</td>\n",
       "    </tr>\n",
       "    <tr>\n",
       "      <th>6</th>\n",
       "      <td>CA-2014-100678</td>\n",
       "      <td>697.074</td>\n",
       "      <td>0.9</td>\n",
       "      <td>11</td>\n",
       "      <td>61.7937</td>\n",
       "      <td>77095</td>\n",
       "      <td>[1, 2, 1]</td>\n",
       "      <td>[1, 0, 1, 0, 0, 1, 0, 1, 0, 0, 0, 0, 0, 0, 0, ...</td>\n",
       "      <td>0</td>\n",
       "      <td>[0, 0, 0, 4]</td>\n",
       "      <td>United States</td>\n",
       "      <td>[0, 0, 0, 0, 0, 0, 0, 0, 0, 0, 0, 0, 0, 0, 0, ...</td>\n",
       "      <td>[1, 0, 0, 0]</td>\n",
       "      <td>Houston</td>\n",
       "    </tr>\n",
       "    <tr>\n",
       "      <th>7</th>\n",
       "      <td>CA-2014-100706</td>\n",
       "      <td>129.440</td>\n",
       "      <td>0.0</td>\n",
       "      <td>8</td>\n",
       "      <td>17.7202</td>\n",
       "      <td>22153</td>\n",
       "      <td>[1, 0, 1]</td>\n",
       "      <td>[1, 0, 0, 0, 0, 0, 0, 0, 0, 1, 0, 0, 0, 0, 0, ...</td>\n",
       "      <td>0</td>\n",
       "      <td>[0, 0, 2, 0]</td>\n",
       "      <td>United States</td>\n",
       "      <td>[0, 0, 0, 0, 0, 0, 0, 0, 0, 0, 0, 0, 0, 0, 0, ...</td>\n",
       "      <td>[0, 0, 1, 0]</td>\n",
       "      <td>Springfield</td>\n",
       "    </tr>\n",
       "    <tr>\n",
       "      <th>8</th>\n",
       "      <td>CA-2014-100762</td>\n",
       "      <td>508.620</td>\n",
       "      <td>0.0</td>\n",
       "      <td>11</td>\n",
       "      <td>219.0774</td>\n",
       "      <td>49201</td>\n",
       "      <td>[0, 4, 0]</td>\n",
       "      <td>[0, 0, 1, 0, 0, 0, 0, 0, 0, 0, 1, 0, 2, 0, 0, ...</td>\n",
       "      <td>0</td>\n",
       "      <td>[0, 0, 0, 4]</td>\n",
       "      <td>United States</td>\n",
       "      <td>[0, 0, 0, 0, 0, 0, 0, 0, 0, 0, 0, 0, 0, 0, 0, ...</td>\n",
       "      <td>[1, 0, 0, 0]</td>\n",
       "      <td>Jackson</td>\n",
       "    </tr>\n",
       "    <tr>\n",
       "      <th>9</th>\n",
       "      <td>CA-2014-100860</td>\n",
       "      <td>18.750</td>\n",
       "      <td>0.0</td>\n",
       "      <td>5</td>\n",
       "      <td>9.0000</td>\n",
       "      <td>91767</td>\n",
       "      <td>[0, 1, 0]</td>\n",
       "      <td>[0, 0, 0, 0, 0, 0, 0, 0, 0, 0, 1, 0, 0, 0, 0, ...</td>\n",
       "      <td>0</td>\n",
       "      <td>[0, 0, 1, 0]</td>\n",
       "      <td>United States</td>\n",
       "      <td>[0, 0, 0, 1, 0, 0, 0, 0, 0, 0, 0, 0, 0, 0, 0, ...</td>\n",
       "      <td>[0, 0, 0, 1]</td>\n",
       "      <td>Pomona</td>\n",
       "    </tr>\n",
       "  </tbody>\n",
       "</table>\n",
       "</div>"
      ],
      "text/plain": [
       "         order_id  total_sales  discount  total_quantity  total_profit  \\\n",
       "0  CA-2014-100006      377.970       0.0               3      109.6113   \n",
       "1  CA-2014-100090      699.192       0.4               9      -19.0890   \n",
       "2  CA-2014-100293       91.056       0.2               6       31.8696   \n",
       "3  CA-2014-100328        3.928       0.2               1        1.3257   \n",
       "4  CA-2014-100363       21.376       0.4               5        7.7192   \n",
       "5  CA-2014-100391       14.620       0.0               2        6.7252   \n",
       "6  CA-2014-100678      697.074       0.9              11       61.7937   \n",
       "7  CA-2014-100706      129.440       0.0               8       17.7202   \n",
       "8  CA-2014-100762      508.620       0.0              11      219.0774   \n",
       "9  CA-2014-100860       18.750       0.0               5        9.0000   \n",
       "\n",
       "   postal_code cateogry_embedding  \\\n",
       "0        10024          [0, 0, 1]   \n",
       "1        94122          [1, 1, 0]   \n",
       "2        32216          [0, 1, 0]   \n",
       "3        10024          [0, 1, 0]   \n",
       "4        85301          [0, 2, 0]   \n",
       "5        10035          [0, 1, 0]   \n",
       "6        77095          [1, 2, 1]   \n",
       "7        22153          [1, 0, 1]   \n",
       "8        49201          [0, 4, 0]   \n",
       "9        91767          [0, 1, 0]   \n",
       "\n",
       "                               subcategory_embedding  returns  \\\n",
       "0  [0, 0, 0, 0, 0, 0, 0, 0, 0, 0, 0, 0, 0, 1, 0, ...        0   \n",
       "1  [0, 0, 0, 1, 0, 0, 0, 0, 0, 0, 0, 0, 0, 0, 0, ...        0   \n",
       "2  [0, 0, 0, 0, 0, 0, 0, 0, 0, 0, 0, 0, 1, 0, 0, ...        0   \n",
       "3  [0, 0, 0, 1, 0, 0, 0, 0, 0, 0, 0, 0, 0, 0, 0, ...        0   \n",
       "4  [0, 0, 0, 0, 0, 0, 0, 0, 1, 0, 0, 0, 1, 0, 0, ...        0   \n",
       "5  [0, 0, 0, 0, 0, 0, 0, 0, 0, 0, 0, 0, 1, 0, 0, ...        0   \n",
       "6  [1, 0, 1, 0, 0, 1, 0, 1, 0, 0, 0, 0, 0, 0, 0, ...        0   \n",
       "7  [1, 0, 0, 0, 0, 0, 0, 0, 0, 1, 0, 0, 0, 0, 0, ...        0   \n",
       "8  [0, 0, 1, 0, 0, 0, 0, 0, 0, 0, 1, 0, 2, 0, 0, ...        0   \n",
       "9  [0, 0, 0, 0, 0, 0, 0, 0, 0, 0, 1, 0, 0, 0, 0, ...        0   \n",
       "\n",
       "  ship_mode_embedding        country  \\\n",
       "0        [0, 0, 0, 1]  United States   \n",
       "1        [0, 0, 0, 2]  United States   \n",
       "2        [0, 0, 0, 1]  United States   \n",
       "3        [0, 0, 0, 1]  United States   \n",
       "4        [0, 0, 0, 2]  United States   \n",
       "5        [0, 0, 0, 1]  United States   \n",
       "6        [0, 0, 0, 4]  United States   \n",
       "7        [0, 0, 2, 0]  United States   \n",
       "8        [0, 0, 0, 4]  United States   \n",
       "9        [0, 0, 1, 0]  United States   \n",
       "\n",
       "                                               state        region  \\\n",
       "0  [0, 0, 0, 0, 0, 0, 0, 0, 0, 0, 0, 0, 0, 0, 0, ...  [0, 1, 0, 0]   \n",
       "1  [0, 0, 0, 1, 0, 0, 0, 0, 0, 0, 0, 0, 0, 0, 0, ...  [0, 0, 0, 1]   \n",
       "2  [0, 0, 0, 0, 0, 0, 0, 0, 1, 0, 0, 0, 0, 0, 0, ...  [0, 0, 1, 0]   \n",
       "3  [0, 0, 0, 0, 0, 0, 0, 0, 0, 0, 0, 0, 0, 0, 0, ...  [0, 1, 0, 0]   \n",
       "4  [0, 1, 0, 0, 0, 0, 0, 0, 0, 0, 0, 0, 0, 0, 0, ...  [0, 0, 0, 1]   \n",
       "5  [0, 0, 0, 0, 0, 0, 0, 0, 0, 0, 0, 0, 0, 0, 0, ...  [0, 1, 0, 0]   \n",
       "6  [0, 0, 0, 0, 0, 0, 0, 0, 0, 0, 0, 0, 0, 0, 0, ...  [1, 0, 0, 0]   \n",
       "7  [0, 0, 0, 0, 0, 0, 0, 0, 0, 0, 0, 0, 0, 0, 0, ...  [0, 0, 1, 0]   \n",
       "8  [0, 0, 0, 0, 0, 0, 0, 0, 0, 0, 0, 0, 0, 0, 0, ...  [1, 0, 0, 0]   \n",
       "9  [0, 0, 0, 1, 0, 0, 0, 0, 0, 0, 0, 0, 0, 0, 0, ...  [0, 0, 0, 1]   \n",
       "\n",
       "            city  \n",
       "0  New York City  \n",
       "1  San Francisco  \n",
       "2   Jacksonville  \n",
       "3  New York City  \n",
       "4       Glendale  \n",
       "5  New York City  \n",
       "6        Houston  \n",
       "7    Springfield  \n",
       "8        Jackson  \n",
       "9         Pomona  "
      ]
     },
     "execution_count": 2,
     "metadata": {},
     "output_type": "execute_result"
    }
   ],
   "source": [
    "data = make_df_from_sheet(\"data/Sales Data Dendogram.xlsx\")\n",
    "df = preprocess2(data)\n",
    "df = df.head(n=10)\n",
    "df"
   ]
  },
  {
   "cell_type": "code",
   "execution_count": 3,
   "id": "7d372fd3",
   "metadata": {
    "ExecuteTime": {
     "end_time": "2021-12-11T17:56:26.058510Z",
     "start_time": "2021-12-11T17:56:26.047116Z"
    }
   },
   "outputs": [],
   "source": [
    "numeric_columns=[\"total_sales\", \"discount\", \"total_quantity\", \"total_profit\"]\n",
    "embedding_columns = [\"region\", \"state\",\"cateogry_embedding\", \"subcategory_embedding\", \"ship_mode_embedding\"]\n",
    "from sklearn.preprocessing import StandardScaler, MinMaxScaler\n",
    "df[numeric_columns] = StandardScaler().fit_transform(df[numeric_columns])\n",
    "df[numeric_columns] = MinMaxScaler().fit_transform(df[numeric_columns])\n",
    "\n",
    "if \"postal_code\" in df:\n",
    "    del df[\"postal_code\"]"
   ]
  },
  {
   "cell_type": "code",
   "execution_count": 4,
   "id": "94ecaab7",
   "metadata": {
    "ExecuteTime": {
     "end_time": "2021-12-11T17:56:26.065158Z",
     "start_time": "2021-12-11T17:56:26.059691Z"
    }
   },
   "outputs": [],
   "source": [
    "import matplotlib\n",
    "from common import *\n",
    "\n",
    "class BaseOntologyTransform2():\n",
    "    \n",
    "    def __init__(self, mapping, lens=\"root\", color_decay_rate=.1):\n",
    "        self.mapping = mapping\n",
    "        self.lens = lens\n",
    "        self.cmap = matplotlib.cm.get_cmap('Spectral')\n",
    "        self.color_decay_rate = color_decay_rate\n",
    "\n",
    "    def transform(self, X):\n",
    "        H = Graph()\n",
    "        H.add_vertex(Vertex(self.lens))\n",
    "        return self._convert(X, H, self.mapping, parent=self.lens, level=1)\n",
    "\n",
    "    def _convert(self, X, H, hmap=None, parent=None, level=0, color=None, lens=\"root\"):\n",
    "        count = 0\n",
    "        for k, v in hmap.items():\n",
    "            if level == 1:\n",
    "                color = np.array(self.cmap(count/len(hmap.keys())))\n",
    "            value = X[k] if k in X else None\n",
    "            color[3] *= 1- self.color_decay_rate\n",
    "            nodes = []\n",
    "            if isinstance(value, list):\n",
    "                for i, vv in enumerate(value):\n",
    "                    nid = \"{}_{}\".format(k, i)\n",
    "                    node = Vertex(id=nid, attributes={\"color\": color}, value=vv)\n",
    "                    H.add_vertex(node)\n",
    "                    H.add_edge(Edge(u=parent, v=nid))\n",
    "            node = Vertex(id=k, attributes={\"color\": color}, value=value)\n",
    "            H.add_vertex(node)\n",
    "            H.add_edge(Edge(u=parent, v=k))\n",
    "            self._convert(X, H, v, parent=k, level=level+1, color=color)\n",
    "            count+=1\n",
    "        return H"
   ]
  },
  {
   "cell_type": "markdown",
   "id": "9ece14ed",
   "metadata": {
    "ExecuteTime": {
     "end_time": "2021-11-25T12:52:59.908707Z",
     "start_time": "2021-11-25T12:52:59.893552Z"
    }
   },
   "source": [
    "### Embed Row Into Ontological Heirarchy"
   ]
  },
  {
   "cell_type": "code",
   "execution_count": 5,
   "id": "90404e16",
   "metadata": {
    "ExecuteTime": {
     "end_time": "2021-12-11T17:56:27.844038Z",
     "start_time": "2021-12-11T17:56:26.066226Z"
    }
   },
   "outputs": [
    {
     "name": "stderr",
     "output_type": "stream",
     "text": [
      "/opt/conda/lib/python3.8/site-packages/numpy/core/_asarray.py:136: VisibleDeprecationWarning: Creating an ndarray from ragged nested sequences (which is a list-or-tuple of lists-or-tuples-or ndarrays with different lengths or shapes) is deprecated. If you meant to do this, you must specify 'dtype=object' when creating the ndarray\n",
      "  return array(a, dtype, copy=False, order=order, subok=True)\n"
     ]
    },
    {
     "ename": "TypeError",
     "evalue": "draw_g() got an unexpected keyword argument 'raw'",
     "output_type": "error",
     "traceback": [
      "\u001b[0;31m---------------------------------------------------------------------------\u001b[0m",
      "\u001b[0;31mTypeError\u001b[0m                                 Traceback (most recent call last)",
      "\u001b[0;32m<ipython-input-5-548e34905107>\u001b[0m in \u001b[0;36m<module>\u001b[0;34m\u001b[0m\n\u001b[1;32m     17\u001b[0m \u001b[0mfig\u001b[0m\u001b[0;34m,\u001b[0m \u001b[0max\u001b[0m \u001b[0;34m=\u001b[0m \u001b[0mplt\u001b[0m\u001b[0;34m.\u001b[0m\u001b[0msubplots\u001b[0m\u001b[0;34m(\u001b[0m\u001b[0mfigsize\u001b[0m\u001b[0;34m=\u001b[0m\u001b[0;34m(\u001b[0m\u001b[0;36m5\u001b[0m\u001b[0;34m,\u001b[0m\u001b[0;36m10\u001b[0m\u001b[0;34m)\u001b[0m\u001b[0;34m)\u001b[0m\u001b[0;34m\u001b[0m\u001b[0;34m\u001b[0m\u001b[0m\n\u001b[1;32m     18\u001b[0m \u001b[0mdraw_g\u001b[0m\u001b[0;34m(\u001b[0m\u001b[0mgraphs\u001b[0m\u001b[0;34m[\u001b[0m\u001b[0;36m0\u001b[0m\u001b[0;34m]\u001b[0m\u001b[0;34m,\u001b[0m \u001b[0max\u001b[0m\u001b[0;34m=\u001b[0m\u001b[0max\u001b[0m\u001b[0;34m,\u001b[0m \u001b[0mwith_labels\u001b[0m\u001b[0;34m=\u001b[0m\u001b[0;32mTrue\u001b[0m\u001b[0;34m,\u001b[0m \u001b[0mminsize\u001b[0m\u001b[0;34m=\u001b[0m\u001b[0;36m1\u001b[0m\u001b[0;34m,\u001b[0m \u001b[0malpha\u001b[0m\u001b[0;34m=\u001b[0m\u001b[0;36m100\u001b[0m\u001b[0;34m,\u001b[0m \u001b[0memult\u001b[0m\u001b[0;34m=\u001b[0m\u001b[0;36m2\u001b[0m\u001b[0;34m,\u001b[0m \u001b[0mmake_axis\u001b[0m\u001b[0;34m=\u001b[0m\u001b[0;32mFalse\u001b[0m\u001b[0;34m)\u001b[0m\u001b[0;34m\u001b[0m\u001b[0;34m\u001b[0m\u001b[0m\n\u001b[0;32m---> 19\u001b[0;31m \u001b[0mvisualize_10\u001b[0m\u001b[0;34m(\u001b[0m\u001b[0mgraphs\u001b[0m\u001b[0;34m,\u001b[0m \u001b[0mraw\u001b[0m\u001b[0;34m=\u001b[0m\u001b[0;32mTrue\u001b[0m\u001b[0;34m,\u001b[0m \u001b[0mminsize\u001b[0m\u001b[0;34m=\u001b[0m\u001b[0;36m20\u001b[0m\u001b[0;34m,\u001b[0m \u001b[0malpha\u001b[0m\u001b[0;34m=\u001b[0m\u001b[0;36m100\u001b[0m\u001b[0;34m,\u001b[0m \u001b[0memult\u001b[0m\u001b[0;34m=\u001b[0m\u001b[0;36m4\u001b[0m\u001b[0;34m,\u001b[0m \u001b[0mwith_labels\u001b[0m\u001b[0;34m=\u001b[0m\u001b[0;32mFalse\u001b[0m\u001b[0;34m)\u001b[0m\u001b[0;34m\u001b[0m\u001b[0;34m\u001b[0m\u001b[0m\n\u001b[0m\u001b[1;32m     20\u001b[0m \u001b[0;34m\u001b[0m\u001b[0m\n\u001b[1;32m     21\u001b[0m \u001b[0mprint\u001b[0m\u001b[0;34m(\u001b[0m\u001b[0;34m\"Average similarity of graphs pre filter: {}\"\u001b[0m\u001b[0;34m.\u001b[0m\u001b[0mformat\u001b[0m\u001b[0;34m(\u001b[0m\u001b[0;36m1\u001b[0m \u001b[0;34m-\u001b[0m \u001b[0mnp\u001b[0m\u001b[0;34m.\u001b[0m\u001b[0mmean\u001b[0m\u001b[0;34m(\u001b[0m\u001b[0mdistances\u001b[0m\u001b[0;34m)\u001b[0m\u001b[0;34m)\u001b[0m\u001b[0;34m)\u001b[0m\u001b[0;34m\u001b[0m\u001b[0;34m\u001b[0m\u001b[0m\n",
      "\u001b[0;32m/workspace/store_sales/helpers.py\u001b[0m in \u001b[0;36mvisualize_10\u001b[0;34m(graphs, *args, **kwargs)\u001b[0m\n\u001b[1;32m    153\u001b[0m     \u001b[0;32mfor\u001b[0m \u001b[0mi\u001b[0m \u001b[0;32min\u001b[0m \u001b[0mrange\u001b[0m\u001b[0;34m(\u001b[0m\u001b[0;36m10\u001b[0m\u001b[0;34m)\u001b[0m\u001b[0;34m:\u001b[0m\u001b[0;34m\u001b[0m\u001b[0;34m\u001b[0m\u001b[0m\n\u001b[1;32m    154\u001b[0m         \u001b[0mj\u001b[0m\u001b[0;34m,\u001b[0m \u001b[0mk\u001b[0m \u001b[0;34m=\u001b[0m \u001b[0mi\u001b[0m \u001b[0;34m%\u001b[0m \u001b[0;36m5\u001b[0m\u001b[0;34m,\u001b[0m \u001b[0mint\u001b[0m\u001b[0;34m(\u001b[0m\u001b[0mi\u001b[0m\u001b[0;34m/\u001b[0m\u001b[0;36m5\u001b[0m\u001b[0;34m)\u001b[0m\u001b[0;34m\u001b[0m\u001b[0;34m\u001b[0m\u001b[0m\n\u001b[0;32m--> 155\u001b[0;31m         \u001b[0mdraw_g\u001b[0m\u001b[0;34m(\u001b[0m\u001b[0mgraphs\u001b[0m\u001b[0;34m[\u001b[0m\u001b[0mi\u001b[0m\u001b[0;34m]\u001b[0m\u001b[0;34m,\u001b[0m \u001b[0max\u001b[0m\u001b[0;34m=\u001b[0m\u001b[0max\u001b[0m\u001b[0;34m[\u001b[0m\u001b[0mk\u001b[0m\u001b[0;34m]\u001b[0m\u001b[0;34m[\u001b[0m\u001b[0mj\u001b[0m\u001b[0;34m]\u001b[0m\u001b[0;34m,\u001b[0m \u001b[0;34m*\u001b[0m\u001b[0margs\u001b[0m\u001b[0;34m,\u001b[0m \u001b[0;34m**\u001b[0m\u001b[0mkwargs\u001b[0m\u001b[0;34m)\u001b[0m\u001b[0;34m\u001b[0m\u001b[0;34m\u001b[0m\u001b[0m\n\u001b[0m\u001b[1;32m    156\u001b[0m         \u001b[0max\u001b[0m\u001b[0;34m[\u001b[0m\u001b[0mk\u001b[0m\u001b[0;34m]\u001b[0m\u001b[0;34m[\u001b[0m\u001b[0mj\u001b[0m\u001b[0;34m]\u001b[0m\u001b[0;34m.\u001b[0m\u001b[0mset_title\u001b[0m\u001b[0;34m(\u001b[0m\u001b[0mi\u001b[0m\u001b[0;34m)\u001b[0m\u001b[0;34m\u001b[0m\u001b[0;34m\u001b[0m\u001b[0m\n\u001b[1;32m    157\u001b[0m \u001b[0;34m\u001b[0m\u001b[0m\n",
      "\u001b[0;31mTypeError\u001b[0m: draw_g() got an unexpected keyword argument 'raw'"
     ]
    },
    {
     "data": {
      "image/png": "[encoded data removed]",
      "text/plain": [
       "<Figure size 360x720 with 1 Axes>"
      ]
     },
     "metadata": {},
     "output_type": "display_data"
    },
    {
     "data": {
      "image/png": "[encoded data removed]",
      "text/plain": [
       "<Figure size 1296x360 with 10 Axes>"
      ]
     },
     "metadata": {
      "needs_background": "light"
     },
     "output_type": "display_data"
    }
   ],
   "source": [
    "hmap = json.load(open(\"data/heirarchy2.json\", \"r\"))\n",
    "hft = BaseOntologyTransform2(mapping=hmap)\n",
    "mdist = mahalanobis(df[numeric_columns], df[numeric_columns])\n",
    "mdist = (mdist - mdist.min()) / (mdist.max() - mdist.min())\n",
    "\n",
    "graphs = []\n",
    "for i, row in df.iterrows():\n",
    "    g = hft.transform(row)\n",
    "    g.id = i\n",
    "    graphs.append(g)\n",
    "    if i > 10:\n",
    "        break\n",
    "        \n",
    "distances = compute_distances(graphs, mdist, np.array([.5, .5]))\n",
    "\n",
    "\n",
    "fig, ax = plt.subplots(figsize=(5,10))\n",
    "draw_g(graphs[0], ax=ax, with_labels=True, minsize=1, alpha=100, emult=2, make_axis=False)  \n",
    "visualize_10(graphs, raw=True, minsize=20, alpha=100, emult=4, with_labels=False)\n",
    "\n",
    "print(\"Average similarity of graphs pre filter: {}\".format(1 - np.mean(distances)))"
   ]
  },
  {
   "cell_type": "markdown",
   "id": "65528a7b",
   "metadata": {},
   "source": [
    "### Build Untuned R-K Pipeline"
   ]
  },
  {
   "cell_type": "code",
   "execution_count": null,
   "id": "3983d731",
   "metadata": {
    "ExecuteTime": {
     "end_time": "2021-12-11T17:56:27.845603Z",
     "start_time": "2021-12-11T17:56:13.973Z"
    }
   },
   "outputs": [],
   "source": [
    "filters, linkers = {}, {}\n",
    "for k, v in graphs[0].nodes.items():\n",
    "    if 'value' in v and isinstance(v['value'], numbers.Number):\n",
    "        filters[k] = RangeFilter(min=0, max=1)        \n",
    "linkers['root'] = SimpleChildLinker()"
   ]
  },
  {
   "cell_type": "code",
   "execution_count": null,
   "id": "84a5c26e",
   "metadata": {
    "ExecuteTime": {
     "end_time": "2021-12-11T17:56:27.846405Z",
     "start_time": "2021-12-11T17:56:14.150Z"
    }
   },
   "outputs": [],
   "source": [
    "rkmodels = []\n",
    "pipeline = RKPipeline(filter_map=filters, linkage_map=linkers)\n",
    "\n",
    "for i, row in df.iterrows():\n",
    "    g = hft.transform(row)\n",
    "    g = pipeline.transform(g)\n",
    "    g.id = i\n",
    "    rkmodels.append(g)\n",
    "    if i > 10:\n",
    "        break\n",
    "\n",
    "mm = [m.get() for m in rkmodels]\n",
    "for i in range(len(rkmodels)):\n",
    "    mm[i].id = rkmodels[i].id\n",
    "            \n",
    "distances = compute_distances(mm, mdist, w=[.5,.5])\n",
    "visualize_10(rkmodels, minsize=20, alpha=200, emult=4, with_labels=False)\n",
    "print(\"Average similarity of graphs pre tuned: {}\".format(1 - np.mean(distances)))"
   ]
  },
  {
   "cell_type": "markdown",
   "id": "69eb679d",
   "metadata": {},
   "source": [
    "### Train the model"
   ]
  },
  {
   "cell_type": "code",
   "execution_count": null,
   "id": "072a595d",
   "metadata": {
    "ExecuteTime": {
     "end_time": "2021-12-11T17:56:27.847312Z",
     "start_time": "2021-12-11T17:56:14.509Z"
    }
   },
   "outputs": [],
   "source": [
    "import nevergrad as ng\n",
    "from concurrent import futures\n",
    "import time\n",
    "\n",
    "w0 = pipeline.get_w()\n",
    "    \n",
    "class ObjectiveFunction():\n",
    "    \n",
    "    def __init__(self, pipeline, sample_size):\n",
    "        self.pipeline = pipeline\n",
    "        self.sample_size = sample_size\n",
    "        \n",
    "    def evaluate(self, w):\n",
    "        pupdate = self.pipeline.remap(w, w0[1])\n",
    "        models = []\n",
    "        sample = df.sample(n=self.sample_size)\n",
    "        for i, row in sample.iterrows():\n",
    "            g = hft.transform(row)\n",
    "            g = pupdate.transform(g)\n",
    "            g.id = i\n",
    "            models.append(g)\n",
    "                \n",
    "        mm = [m.get() for m in models]\n",
    "        for i in range(len(models)):\n",
    "            mm[i].id = models[i].id\n",
    "            \n",
    "        distances = compute_distances(mm, mdist, [1, 0])\n",
    "        c = 1 - np.mean(distances)\n",
    "        return c\n",
    "\n",
    "def train(iterations=2000, batch_size=10):\n",
    "    loss_history = []\n",
    "    optimizer = ng.optimizers.NGOpt(parametrization=len(w0[0]), budget=iterations, num_workers=5)\n",
    "    prev_time = None\n",
    "    start = time.time()\n",
    "    ofunc = ObjectiveFunction(pipeline, batch_size)\n",
    "    for i in range(optimizer.budget):\n",
    "        x = optimizer.ask()\n",
    "        loss = ofunc.evaluate(*x.args, **x.kwargs)\n",
    "        if i % 100 == 0:\n",
    "            now = time.time()\n",
    "            if prev_time is not None:\n",
    "                print(\"Iteration: {:05d}. Loss: {:.08f}. ITime {:.02f} seconds. Total time: {:.02f}\".format(i, loss, now - prev_time, now-start))\n",
    "            prev_time = now\n",
    "        loss_history.append(loss)\n",
    "        optimizer.tell(x, loss)\n",
    "    \n",
    "    recommendation = optimizer.provide_recommendation()\n",
    "    return recommendation.value, loss_history"
   ]
  },
  {
   "cell_type": "code",
   "execution_count": null,
   "id": "ec22bb2c",
   "metadata": {
    "ExecuteTime": {
     "end_time": "2021-12-11T17:56:27.848271Z",
     "start_time": "2021-12-11T17:56:14.694Z"
    }
   },
   "outputs": [],
   "source": [
    "trained_weights, loss_history = train()"
   ]
  },
  {
   "cell_type": "code",
   "execution_count": null,
   "id": "1cc9f0fb",
   "metadata": {
    "ExecuteTime": {
     "end_time": "2021-12-11T17:56:27.849041Z",
     "start_time": "2021-12-11T17:56:14.879Z"
    }
   },
   "outputs": [],
   "source": [
    "show(trained_weights, loss_history)"
   ]
  },
  {
   "cell_type": "code",
   "execution_count": null,
   "id": "a9b96f52",
   "metadata": {
    "ExecuteTime": {
     "end_time": "2021-12-11T17:56:27.849953Z",
     "start_time": "2021-12-11T17:56:15.058Z"
    }
   },
   "outputs": [],
   "source": [
    "from collections import defaultdict\n",
    "\n",
    "class GraphCompressor():\n",
    "    \n",
    "    def transform(self, G):\n",
    "        return self._compress_unconnected_nodes(G)\n",
    "        \n",
    "    def _compress_unconnected_nodes(self, g):\n",
    "        ncomp = defaultdict(set)\n",
    "        for n in g.nodes:\n",
    "            if g.degree[n] == 1 and len(g.get_children(n)) == 0:\n",
    "                for a in g.predecessors(n):\n",
    "                    ncomp[a].add(n)\n",
    "\n",
    "        arr = []\n",
    "        for n,v in ncomp.items():\n",
    "            arr.extend(v)\n",
    "        gm = GraphMask(nmasks=arr).fit(g)\n",
    "        for n,v in ncomp.items():\n",
    "            name = \"Disconnected {}\".format(n)\n",
    "            pred = list(gm.predecessors(n))\n",
    "            col = 'black'\n",
    "            if len(pred) > 0:\n",
    "                col = g.nodes[n].get('color', 'black')\n",
    "            vv = Vertex(name, attributes={\"clustered_ref\": name, 'color':  col})\n",
    "            gm.add_vertex(vv)\n",
    "            gm.add_edge(Edge(n, name))\n",
    "        return gm"
   ]
  },
  {
   "cell_type": "code",
   "execution_count": null,
   "id": "b2cf2b54",
   "metadata": {
    "ExecuteTime": {
     "end_time": "2021-12-11T17:56:27.850730Z",
     "start_time": "2021-12-11T17:56:15.241Z"
    }
   },
   "outputs": [],
   "source": [
    "from rktoolkit.visualizers.networkx.dendrogram import hierarchy_pos\n",
    "import math\n",
    "import numbers\n",
    "import matplotlib.pyplot as plt \n",
    "\n",
    "def draw_rkmodel(model, ax=None, with_labels=True, minsize=100, alpha=300, emult=2, make_axis=False, width=2*math.pi, vert_gap=0.2, font_size=10):\n",
    "    \n",
    "    if make_axis:\n",
    "        fig, ax = plt.subplots(figsize=(5, 20)) \n",
    "    if ax is None:\n",
    "        ax = plt.gca()  \n",
    "        \n",
    "    pos = hierarchy_pos(model.G, 'root', width = width, xcenter=0, vert_gap=vert_gap)   \n",
    "    new_pos = {u:(r*math.cos(theta),r*math.sin(theta)) for u, (theta, r) in pos.items()}\n",
    "    cols = [ n[1].get('color', 'black') for n in list(model.G.nodes.items())]\n",
    "    masked_model = model.get()\n",
    "    cols = [ n[1].get('color', 'black') for n in list(masked_model.nodes.items())]\n",
    "    sizes = []\n",
    "    for n in list(masked_model.nodes.items()):\n",
    "        v = n[1].get(\"value\",1)\n",
    "        if not isinstance(v, numbers.Number):\n",
    "            v = 0\n",
    "        v+=1\n",
    "        sizes.append(v)\n",
    "    sizes = np.array(sizes)\n",
    "    sizes = sizes ** 2 #np.exp(sizes)\n",
    "    sizes = (sizes - sizes.min()) / (sizes.max()-sizes.min())\n",
    "    sizes *= alpha\n",
    "    sizes += minsize\n",
    "    sizes = np.where(np.isnan(sizes), minsize, sizes)\n",
    "    \n",
    "    nx.draw(masked_model, pos=new_pos, with_labels=with_labels, font_size=font_size, ax=ax, node_color = cols, node_size=sizes)\n",
    "    nx.draw_networkx_nodes(model.G, pos=new_pos, nodelist = ['root'], node_color = 'green', ax=ax, node_size = sizes.max()*emult)\n",
    "\n",
    "def draw_g(G, ax=None, with_labels=True, minsize=100, alpha=300, emult=2, make_axis=False, width=2*math.pi, vert_gap=0.2, font_size=10):\n",
    "    if make_axis:\n",
    "        fig, ax = plt.subplots(figsize=(10, 20))\n",
    "    if ax is None:\n",
    "        ax = plt.gca()\n",
    "    pos = hierarchy_pos(G, 'root', width = width, xcenter=0, vert_gap=vert_gap)\n",
    "    new_pos = {u:(r*math.cos(theta),r*math.sin(theta)) for u, (theta, r) in pos.items()}\n",
    "    #new_pos = pos\n",
    "    cols = [ n[1].get('color', 'black') for n in list(G.nodes.items())]\n",
    "    sizes = []\n",
    "    for n in list(G.nodes.items()):\n",
    "        v = n[1].get(\"value\",0)\n",
    "        if not isinstance(v, numbers.Number):\n",
    "            v = 1\n",
    "        v+=1\n",
    "        sizes.append(v)\n",
    "    sizes = np.array(sizes)\n",
    "    sizes = sizes ** 5 #np.exp(sizes)\n",
    "    sizes = (sizes - sizes.min()) / (sizes.max()-sizes.min())\n",
    "    sizes *= alpha\n",
    "    sizes += minsize\n",
    "    sizes = np.where(np.isnan(sizes), minsize, sizes)\n",
    "    nx.draw(G, pos=new_pos, with_labels=with_labels, font_size=font_size, node_size=sizes, ax=ax, node_color = cols)\n",
    "    nx.draw_networkx_nodes(G, pos=new_pos, nodelist = ['root'], node_color = 'green', ax=ax, node_size = sizes.max()*emult)\n",
    "    \n",
    "def visualize_10(graphs, raw=False, *args, **kwargs):\n",
    "    fig, ax = plt.subplots(2,5, figsize=(18,10))\n",
    "    for i in range(10):\n",
    "        j, k = i % 5, int(i/5)\n",
    "        if raw:\n",
    "            draw_g(graphs[i], ax=ax[k][j], *args, **kwargs)\n",
    "        else:\n",
    "            draw_rkmodel(graphs[i], ax=ax[k][j], *args, **kwargs)\n",
    "        ax[k][j].set_title(\"{}: M Dist: {:.02f}\".format(i, mdist[i]))"
   ]
  },
  {
   "cell_type": "code",
   "execution_count": null,
   "id": "e74772f7",
   "metadata": {
    "ExecuteTime": {
     "end_time": "2021-12-11T17:56:27.851612Z",
     "start_time": "2021-12-11T17:56:15.421Z"
    }
   },
   "outputs": [],
   "source": [
    "def show(trained_weights, loss_history):\n",
    "    rkmodels = []\n",
    "    pupdate = pipeline.remap(trained_weights, w0[1])\n",
    "    for i, row in df.iterrows():\n",
    "        g = hft.transform(row)\n",
    "        g = pupdate.transform(g)\n",
    "        g.id = i\n",
    "        rkmodels.append(g)\n",
    "        if i > 10:\n",
    "            break\n",
    "            \n",
    "    mm = [m.get() for m in rkmodels]\n",
    "    for i in range(len(rkmodels)):\n",
    "        mm[i].id = rkmodels[i].id\n",
    "        \n",
    "    distances = compute_distances(mm, mdist, [.5, .5])\n",
    "    fig, ax = plt.subplots(figsize=(5,10))\n",
    "    draw_g(rkmodels[0].G, ax=ax, with_labels=True, minsize=1, alpha=100, emult=2, make_axis=False)\n",
    "    plt.savefig(\"base_model.png\",  dpi = 300, bbox_inches=\"tight\")\n",
    "\n",
    "    visualize_10(rkmodels, minsize=20, alpha=100, emult=2, with_labels=False, make_axis=False)\n",
    "    plt.savefig(\"uncompressed_models.png\",  dpi = 300, bbox_inches=\"tight\")\n",
    "\n",
    "    plt.gca()\n",
    "    plt.show()\n",
    "    compressed_models = [GraphCompressor().transform(m.get()) for m in rkmodels]\n",
    "    visualize_10(compressed_models, minsize=20, alpha=100, emult=2, with_labels=False, make_axis=False, raw=True)\n",
    "    plt.savefig(\"compressed_models.png\",  dpi = 300, bbox_inches=\"tight\")\n",
    "\n",
    "    fig, ax = plt.subplots(figsize=(12,5))\n",
    "    ax.set_title(\"Loss Over Time\")\n",
    "    ax.set_xlabel(\"Iteration\")\n",
    "    ax.set_ylabel(\"Loss\")\n",
    "    ax.plot(loss_history)\n",
    "    plt.show()\n",
    "    plt.savefig(\"loss_over_time.png\",  dpi = 300, bbox_inches=\"tight\")\n",
    "    \n",
    "show(trained_weights, loss_history)"
   ]
  },
  {
   "cell_type": "code",
   "execution_count": null,
   "id": "21f6a25c",
   "metadata": {
    "ExecuteTime": {
     "end_time": "2021-12-11T17:56:27.852393Z",
     "start_time": "2021-12-11T17:56:15.605Z"
    }
   },
   "outputs": [],
   "source": [
    "show(trained_weights, loss_history)"
   ]
  },
  {
   "cell_type": "code",
   "execution_count": null,
   "id": "07371b2b",
   "metadata": {},
   "outputs": [],
   "source": []
  },
  {
   "cell_type": "code",
   "execution_count": null,
   "id": "80b1857c",
   "metadata": {},
   "outputs": [],
   "source": []
  },
  {
   "cell_type": "code",
   "execution_count": null,
   "id": "3584b6c1",
   "metadata": {},
   "outputs": [],
   "source": []
  }
 ],
 "metadata": {
  "kernelspec": {
   "display_name": "Python 3",
   "language": "python",
   "name": "python3"
  },
  "language_info": {
   "codemirror_mode": {
    "name": "ipython",
    "version": 3
   },
   "file_extension": ".py",
   "mimetype": "text/x-python",
   "name": "python",
   "nbconvert_exporter": "python",
   "pygments_lexer": "ipython3",
   "version": "3.8.10"
  },
  "toc": {
   "base_numbering": 1,
   "nav_menu": {},
   "number_sections": false,
   "sideBar": true,
   "skip_h1_title": false,
   "title_cell": "Table of Contents",
   "title_sidebar": "Contents",
   "toc_cell": false,
   "toc_position": {},
   "toc_section_display": true,
   "toc_window_display": false
  }
 },
 "nbformat": 4,
 "nbformat_minor": 5
}
