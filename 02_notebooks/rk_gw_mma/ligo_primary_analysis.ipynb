{
 "cells": [
  {
   "cell_type": "markdown",
   "id": "e3585e79",
   "metadata": {},
   "source": [
    "# Ligo Primary Analysis\n",
    "\n",
    "* Tested on Intel based Linux. \n",
    "* Notebook issue with it being too large to save with renders. Hence PDF screenshot will be provided. Request to run the notebook for visuals in the jupyter enviornment. The file is in the same folder called: ligo_primary_analysis_notebook.pdf and contains the rendered version of this file.\n",
    "* Notebook may take a while to render. This is partly due to graphic processing, and also due to the fact this code was not performance optimized. Please be patient (we've seen 15-20 minutes) for the full render.\n",
    "* Installation instructions to notebook on the README\n",
    "* python -m pip install -r requirements_primary.txt for installing the relevant libs"
   ]
  },
  {
   "cell_type": "markdown",
   "id": "0c7dd306",
   "metadata": {},
   "source": [
    "# 0. Imports"
   ]
  },
  {
   "cell_type": "code",
   "execution_count": null,
   "id": "5a5f75f0",
   "metadata": {
    "ExecuteTime": {
     "end_time": "2022-09-27T09:13:37.386176Z",
     "start_time": "2022-09-27T09:13:35.633585Z"
    }
   },
   "outputs": [],
   "source": [
    "import logging\n",
    "import h5py\n",
    "import json\n",
    "import inspect\n",
    "import readligo as rl\n",
    "import matplotlib.mlab as mlab\n",
    "from scipy.interpolate import interp1d\n",
    "import matplotlib.pyplot as plt\n",
    "import os\n",
    "import numpy as np\n",
    "from gwosc.locate import get_urls\n",
    "import requests\n",
    "import os\n",
    "from gwosc.locate import get_urls\n",
    "from scipy import signal\n",
    "from gwpy.timeseries import TimeSeries\n",
    "\n",
    "logger = logging.getLogger()\n",
    "logger.setLevel(logging.INFO)\n",
    "\n",
    "from rk_visualizer import *\n",
    "app = RKModelApplication(master=root)\n",
    "visualizer = RKGraphVisualizer(app)"
   ]
  },
  {
   "cell_type": "markdown",
   "id": "dda035a5",
   "metadata": {},
   "source": [
    "# 1. Read LIGO Strain Data & Load for Analysis"
   ]
  },
  {
   "cell_type": "code",
   "execution_count": null,
   "id": "fe9dc2cf",
   "metadata": {
    "ExecuteTime": {
     "end_time": "2022-09-27T09:14:01.252536Z",
     "start_time": "2022-09-27T09:13:37.388148Z"
    }
   },
   "outputs": [],
   "source": [
    "detector = 'H1'\n",
    "event_data  = {'GW170729': {'t': 1185389807.3},\n",
    "               'GW170817': {'t': 1187008882.4},\n",
    "               'GW190521': {'t': 1242442967.4},\n",
    "               'GW190814': {'t': 1249852257.0}}\n",
    "\n",
    "for name, event in event_data.items():\n",
    "    url = get_urls(detector, event['t'], event['t'])[-1]\n",
    "    fn = os.path.basename(url)\n",
    "    n = url.split(\"/\")[-3]\n",
    "    event_data[n][\"path\"] = fn\n",
    "    if not os.path.exists(fn): \n",
    "        print('Downloading: ' , url)\n",
    "        with open(fn,'wb') as strainfile: \n",
    "            straindata = requests.get(url)\n",
    "            strainfile.write(straindata.content)\n",
    "    else:\n",
    "        print(\"already downloaded {}. skipping\".format(fn))\n",
    "        \n",
    "# using the tool\n",
    "visualizer.load_data()\n",
    "print(inspect.getsource(visualizer.load_data))"
   ]
  },
  {
   "cell_type": "markdown",
   "id": "32b3d756",
   "metadata": {},
   "source": [
    "# 2. View Strain Data in Time Series"
   ]
  },
  {
   "cell_type": "code",
   "execution_count": null,
   "id": "0d3dddcf",
   "metadata": {
    "ExecuteTime": {
     "end_time": "2022-09-27T09:14:09.890416Z",
     "start_time": "2022-09-27T09:14:01.254405Z"
    }
   },
   "outputs": [],
   "source": [
    "focus_event = 'GW170729'\n",
    "strain = TimeSeries.read(event_data[focus_event]['path'],format='hdf5.losc')\n",
    "center = int(event_data['GW170729']['t'])\n",
    "strain = strain.crop(center-16, center+16)\n",
    "fig1 = strain.plot()"
   ]
  },
  {
   "cell_type": "code",
   "execution_count": null,
   "id": "3c21e061",
   "metadata": {
    "ExecuteTime": {
     "end_time": "2022-09-27T09:14:39.371128Z",
     "start_time": "2022-09-27T09:14:09.891872Z"
    }
   },
   "outputs": [],
   "source": [
    "visualizer.plot_strain()\n",
    "print(inspect.getsource(visualizer.plot_strain))"
   ]
  },
  {
   "cell_type": "markdown",
   "id": "65f1675a",
   "metadata": {},
   "source": [
    "# 3. Plot ASD of Whitened & Band-Passed Strain"
   ]
  },
  {
   "cell_type": "code",
   "execution_count": null,
   "id": "413d6c9d",
   "metadata": {
    "ExecuteTime": {
     "end_time": "2022-09-27T09:15:08.987179Z",
     "start_time": "2022-09-27T09:14:39.372942Z"
    }
   },
   "outputs": [],
   "source": [
    "visualizer.plot_asd()\n",
    "print(inspect.getsource(visualizer.plot_asd))"
   ]
  },
  {
   "cell_type": "markdown",
   "id": "ef97f1d1",
   "metadata": {},
   "source": [
    "# 4. Plot Multi-event Spectograms "
   ]
  },
  {
   "cell_type": "code",
   "execution_count": null,
   "id": "fc265645",
   "metadata": {
    "ExecuteTime": {
     "end_time": "2022-09-27T09:15:44.101212Z",
     "start_time": "2022-09-27T09:15:08.989145Z"
    }
   },
   "outputs": [],
   "source": [
    "visualizer.plot_spectrograms()\n",
    "print(inspect.getsource(visualizer.plot_spectrograms))"
   ]
  },
  {
   "cell_type": "markdown",
   "id": "fa471dc1",
   "metadata": {},
   "source": [
    "# 5. Merge Events in Frequency & Time Space and Unfiltered Topological Eventscape in 3D"
   ]
  },
  {
   "cell_type": "code",
   "execution_count": null,
   "id": "009552a5",
   "metadata": {
    "ExecuteTime": {
     "end_time": "2022-09-27T09:16:35.932078Z",
     "start_time": "2022-09-27T09:15:44.102461Z"
    }
   },
   "outputs": [],
   "source": [
    "visualizer.plot_eventscape()\n",
    "print(inspect.getsource(visualizer.plot_eventscape))"
   ]
  },
  {
   "cell_type": "markdown",
   "id": "6f27856b",
   "metadata": {},
   "source": [
    "# 6 Filtered Topological Eventscape in 3D with Projected Events in 2D"
   ]
  },
  {
   "cell_type": "code",
   "execution_count": null,
   "id": "ae810638",
   "metadata": {
    "ExecuteTime": {
     "end_time": "2022-09-27T09:17:21.284969Z",
     "start_time": "2022-09-27T09:16:35.935699Z"
    }
   },
   "outputs": [],
   "source": [
    "visualizer.plot_filteredscape()\n",
    "print(inspect.getsource(visualizer.plot_filteredscape))"
   ]
  },
  {
   "cell_type": "markdown",
   "id": "32bf5654",
   "metadata": {},
   "source": [
    "# 7. Omniview of All Paramenter Estimate from Best Fit Model in Pair Plots"
   ]
  },
  {
   "cell_type": "code",
   "execution_count": null,
   "id": "846d71b9",
   "metadata": {
    "ExecuteTime": {
     "end_time": "2022-09-27T09:17:21.732676Z",
     "start_time": "2022-09-27T09:17:21.286382Z"
    }
   },
   "outputs": [],
   "source": [
    "visualizer.plot_pair_plots()\n",
    "print(inspect.getsource(visualizer.plot_pair_plots))"
   ]
  },
  {
   "cell_type": "markdown",
   "id": "1005af78",
   "metadata": {},
   "source": [
    "# 8. Plot Graph hierarchy for independent PE variable Clusters"
   ]
  },
  {
   "cell_type": "code",
   "execution_count": null,
   "id": "6a49f211",
   "metadata": {
    "ExecuteTime": {
     "end_time": "2022-09-27T09:17:23.824901Z",
     "start_time": "2022-09-27T09:17:21.734179Z"
    }
   },
   "outputs": [],
   "source": [
    "visualizer.plot_heirarchy()\n",
    "print(inspect.getsource(visualizer.plot_heirarchy))"
   ]
  },
  {
   "cell_type": "markdown",
   "id": "ecfe0a12",
   "metadata": {},
   "source": [
    "# 9. Building RK Models from Hierarchy"
   ]
  },
  {
   "cell_type": "code",
   "execution_count": null,
   "id": "e81817a8",
   "metadata": {
    "ExecuteTime": {
     "end_time": "2022-09-27T09:18:00.873754Z",
     "start_time": "2022-09-27T09:17:23.826593Z"
    }
   },
   "outputs": [],
   "source": [
    "visualizer.plot_network()\n",
    "print(inspect.getsource(visualizer.plot_network))"
   ]
  },
  {
   "cell_type": "markdown",
   "id": "1edfaa98",
   "metadata": {},
   "source": [
    "# 10 Apply Linkers and Filters to the R-K Model and Plot Final R-K Diagrams"
   ]
  },
  {
   "cell_type": "code",
   "execution_count": null,
   "id": "faf038a7",
   "metadata": {
    "ExecuteTime": {
     "end_time": "2022-09-27T09:18:19.024399Z",
     "start_time": "2022-09-27T09:18:00.875586Z"
    }
   },
   "outputs": [],
   "source": [
    "visualizer.plot_rk_diagrams()\n",
    "print(inspect.getsource(visualizer.plot_rk_diagrams))"
   ]
  }
 ],
 "metadata": {
  "kernelspec": {
   "display_name": "Python 3",
   "language": "python",
   "name": "python3"
  },
  "language_info": {
   "codemirror_mode": {
    "name": "ipython",
    "version": 3
   },
   "file_extension": ".py",
   "mimetype": "text/x-python",
   "name": "python",
   "nbconvert_exporter": "python",
   "pygments_lexer": "ipython3",
   "version": "3.8.10"
  },
  "toc": {
   "base_numbering": 1,
   "nav_menu": {},
   "number_sections": false,
   "sideBar": true,
   "skip_h1_title": false,
   "title_cell": "Table of Contents",
   "title_sidebar": "Contents",
   "toc_cell": false,
   "toc_position": {},
   "toc_section_display": true,
   "toc_window_display": false
  }
 },
 "nbformat": 4,
 "nbformat_minor": 5
}
